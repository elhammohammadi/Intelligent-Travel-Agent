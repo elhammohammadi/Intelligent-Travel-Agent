{
 "cells": [
  {
   "cell_type": "code",
   "execution_count": 0,
   "metadata": {
    "colab": {},
    "colab_type": "code",
    "id": "g3vs25J7ZEP5"
   },
   "outputs": [],
   "source": [
    "from copy import deepcopy as copy\n",
    "import numpy as np\n",
    "\n",
    "import sys\n",
    "sys.path.append('../Tools')\n",
    "from Metrics import full_report\n",
    "from DataBuilder import read_data, user_builder, separate_data, prepare_data\n",
    "\n",
    "import warnings\n",
    "warnings.filterwarnings(\"ignore\")"
   ]
  },
  {
   "cell_type": "code",
   "execution_count": 3,
   "metadata": {
    "colab": {
     "base_uri": "https://localhost:8080/",
     "height": 66,
     "referenced_widgets": [
      "02cb0720e121427ebcb42e5093496841",
      "feb9400de9fc48c2aeff33797767a956",
      "92c97a67aa59431283e406077ac82980",
      "7546f01b5b39418bbfc4a0712e5e94eb",
      "0d2163721d074079a7fdd01a4a576147",
      "edf08a3f9ede4ef8b29a8608e2d0fbb1",
      "43c9fbbeba77486a9a93c5af88493f06",
      "4f7638f083754f57acb564690c200992"
     ]
    },
    "colab_type": "code",
    "executionInfo": {
     "elapsed": 15098,
     "status": "ok",
     "timestamp": 1585524059286,
     "user": {
      "displayName": "Elham Mohammadi",
      "photoUrl": "https://lh3.googleusercontent.com/a-/AOh14Gh8m11HGM75eyCwhK1NsNZAAoJfhIFdisWa5tIG=s64",
      "userId": "07097141637926810614"
     },
     "user_tz": 240
    },
    "id": "64gI2PPaZ8tl",
    "outputId": "27982299-56cf-45eb-fab1-c8c893a723b3"
   },
   "outputs": [
    {
     "data": {
      "application/vnd.jupyter.widget-view+json": {
       "model_id": "02cb0720e121427ebcb42e5093496841",
       "version_major": 2,
       "version_minor": 0
      },
      "text/plain": [
       "HBox(children=(IntProgress(value=0, max=5777), HTML(value='')))"
      ]
     },
     "metadata": {
      "tags": []
     },
     "output_type": "display_data"
    },
    {
     "name": "stdout",
     "output_type": "stream",
     "text": [
      "\n"
     ]
    }
   ],
   "source": [
    "# Loading and preparing data\n",
    "\n",
    "train_data, dev_data, test_data = separate_data(user_builder(read_data('../Data/city_search.json')))\n",
    "(train_data, _), (dev_data, _), (test_data, test_mask), vocab = prepare_data(train_data, dev_data, test_data, create_iterators=False)"
   ]
  },
  {
   "cell_type": "code",
   "execution_count": 0,
   "metadata": {
    "colab": {},
    "colab_type": "code",
    "id": "fdUvNo4UasCS"
   },
   "outputs": [],
   "source": [
    "# Defining the Unigram and Bigram classes\n",
    "\n",
    "class Unigram:\n",
    "    \n",
    "    '''The Unigram model as the first baseline'''\n",
    "    \n",
    "    def __init__(self, vocab):\n",
    "        self.vocab = dict(vocab.stoi)\n",
    "        del self.vocab['<unk>'], self.vocab['<pad>']\n",
    "        for k in self.vocab:\n",
    "            self.vocab[k] -= 2\n",
    "        self.matrix = np.zeros(len(self.vocab))\n",
    "    \n",
    "    def fit(self, data):\n",
    "        for sample in data:\n",
    "            for i in range(len(sample.input)):\n",
    "                self.matrix[self.vocab[sample.output[i]]] += 1\n",
    "        self.matrix = np.divide(self.matrix, np.sum(self.matrix))\n",
    "\n",
    "    def predict(self, sample, mask=None):\n",
    "        prob = np.zeros((len(sample.input), len(self.matrix)))\n",
    "        for i in range(len(sample.input)):\n",
    "            prob[i, :] = self.matrix\n",
    "        if mask is not None:\n",
    "            new_mask = copy(mask)\n",
    "            for k in new_mask:\n",
    "                new_mask[k] = new_mask[k][:, 2:]\n",
    "            prob[new_mask[int(sample.user_id)] == 1] = 0\n",
    "        return prob\n",
    "\n",
    "\n",
    "class Bigram:\n",
    "    \n",
    "    '''The bigram model as the second baseline.'''\n",
    "    \n",
    "    def __init__(self, vocab):\n",
    "        self.vocab = dict(vocab.stoi)\n",
    "        del self.vocab['<unk>'], self.vocab['<pad>']\n",
    "        for k in self.vocab:\n",
    "            self.vocab[k] -= 2\n",
    "        self.matrix = np.zeros((len(self.vocab), len(self.vocab)))\n",
    "    \n",
    "    def fit(self, data):\n",
    "        for sample in data:\n",
    "            for i in range(len(sample.input)):\n",
    "                self.matrix[self.vocab[sample.input[i]], self.vocab[sample.output[i]]] += 1\n",
    "        self.matrix = np.divide(self.matrix, np.sum(self.matrix, axis=1).reshape(self.matrix.shape[0], 1))\n",
    "\n",
    "    def predict(self, sample, mask=None):\n",
    "        prob = np.zeros((len(sample.input), len(self.matrix)))\n",
    "        for i in range(len(sample.input)):\n",
    "            prob[i, :] = self.matrix[self.vocab[sample.input[i]], :]\n",
    "        if mask is not None:\n",
    "            new_mask = copy(mask)\n",
    "            for k in new_mask:\n",
    "                new_mask[k] = new_mask[k][:, 2:]\n",
    "            prob[new_mask[int(sample.user_id)] == 1] = 0\n",
    "        return prob"
   ]
  },
  {
   "cell_type": "code",
   "execution_count": 0,
   "metadata": {
    "colab": {},
    "colab_type": "code",
    "id": "Sj0k6CaGdf4g"
   },
   "outputs": [],
   "source": [
    "# Training the models on the training and validation data\n",
    "\n",
    "unigram = Unigram(vocab)\n",
    "bigram = Bigram(vocab)\n",
    "\n",
    "unigram.fit(train_data+dev_data)\n",
    "bigram.fit(train_data+dev_data)\n",
    "\n",
    "y_true_test, unigram_prob_test, bigram_prob_test = [], [], []\n",
    "\n",
    "# Making predictions on the test data using the trained models\n",
    "\n",
    "for sample in test_data:\n",
    "    y_true = np.array([unigram.vocab[so] for so in sample.output])\n",
    "    unigram_prob = unigram.predict(sample, test_mask)\n",
    "    bigram_prob = bigram.predict(sample, test_mask)\n",
    "\n",
    "    y_true_test.append(y_true)\n",
    "    unigram_prob_test.append(unigram_prob)\n",
    "    bigram_prob_test.append(bigram_prob)\n",
    "\n",
    "y_true_test = np.concatenate(y_true_test, axis=0)\n",
    "unigram_prob_test = np.concatenate(unigram_prob_test, axis=0)\n",
    "bigram_prob_test = np.concatenate(bigram_prob_test, axis=0)\n",
    "\n",
    "unigram_pred_test = np.argmax(unigram_prob_test, axis=1)\n",
    "bigram_pred_test = np.argmax(bigram_prob_test, axis=1)    "
   ]
  },
  {
   "cell_type": "code",
   "execution_count": 9,
   "metadata": {
    "colab": {
     "base_uri": "https://localhost:8080/",
     "height": 969
    },
    "colab_type": "code",
    "executionInfo": {
     "elapsed": 2775,
     "status": "ok",
     "timestamp": 1585524093052,
     "user": {
      "displayName": "Elham Mohammadi",
      "photoUrl": "https://lh3.googleusercontent.com/a-/AOh14Gh8m11HGM75eyCwhK1NsNZAAoJfhIFdisWa5tIG=s64",
      "userId": "07097141637926810614"
     },
     "user_tz": 240
    },
    "id": "SN-RsZSjh5PZ",
    "outputId": "92e8d296-b5bd-4041-cc4d-d72e8c863a5c"
   },
   "outputs": [
    {
     "name": "stdout",
     "output_type": "stream",
     "text": [
      "**************************UNIGRAM Performance**************************\n",
      "\n",
      "Overall Report:\n",
      "+----------+----------+-------------+--------------+--------+--------+\n",
      "| Accuracy | Macro-F1 | Weighted-F1 | Average Rank | Hit@5  | MRR@5  |\n",
      "+----------+----------+-------------+--------------+--------+--------+\n",
      "|  45.123  |  1.274   |    31.368   |    7.315     | 47.271 | 27.482 |\n",
      "+----------+----------+-------------+--------------+--------+--------+\n",
      "\n",
      "Performance on <sos>:\n",
      "+----------+--------+-----------+---------+\n",
      "| Accuracy |   F1   | Precision |  Recall |\n",
      "+----------+--------+-----------+---------+\n",
      "|  74.991  | 74.991 |   59.988  | 100.000 |\n",
      "+----------+--------+-----------+---------+\n",
      "\n",
      "Scores@k:\n",
      "+--------+--------+--------+--------+--------+--------+--------+--------+--------+--------+--------+\n",
      "|        | k = 1  | k = 2  | k = 3  | k = 4  | k = 5  | k = 6  | k = 7  | k = 8  | k = 9  | k = 10 |\n",
      "+--------+--------+--------+--------+--------+--------+--------+--------+--------+--------+--------+\n",
      "| Hit@k  | 17.049 | 26.919 | 35.047 | 41.930 | 47.271 | 51.365 | 56.072 | 58.861 | 60.799 | 63.074 |\n",
      "| MRR@k  | 17.049 | 21.984 | 24.693 | 26.414 | 27.482 | 28.165 | 28.837 | 29.186 | 29.401 | 29.628 |\n",
      "| Perc@k | 17.049 | 21.984 | 26.338 | 30.236 | 33.643 | 36.597 | 39.379 | 41.814 | 43.924 | 45.839 |\n",
      "+--------+--------+--------+--------+--------+--------+--------+--------+--------+--------+--------+\n",
      "\n",
      "The Unigram predicts 2 distinct labels on the test data:\n",
      "<sos> - New York NY\n",
      "\n",
      "\n",
      "**************************BIGRAM Performance***************************\n",
      "\n",
      "Overall Report:\n",
      "+----------+----------+-------------+--------------+--------+--------+\n",
      "| Accuracy | Macro-F1 | Weighted-F1 | Average Rank | Hit@5  | MRR@5  |\n",
      "+----------+----------+-------------+--------------+--------+--------+\n",
      "|  45.123  |  1.259   |    31.371   |    3.416     | 63.370 | 37.292 |\n",
      "+----------+----------+-------------+--------------+--------+--------+\n",
      "\n",
      "Performance on <sos>:\n",
      "+----------+--------+-----------+---------+\n",
      "| Accuracy |   F1   | Precision |  Recall |\n",
      "+----------+--------+-----------+---------+\n",
      "|  75.003  | 75.000 |   60.000  | 100.000 |\n",
      "+----------+--------+-----------+---------+\n",
      "\n",
      "Scores@k:\n",
      "+--------+--------+--------+--------+--------+--------+--------+--------+--------+--------+--------+\n",
      "|        | k = 1  | k = 2  | k = 3  | k = 4  | k = 5  | k = 6  | k = 7  | k = 8  | k = 9  | k = 10 |\n",
      "+--------+--------+--------+--------+--------+--------+--------+--------+--------+--------+--------+\n",
      "| Hit@k  | 23.141 | 37.203 | 48.022 | 56.903 | 63.370 | 68.987 | 73.556 | 77.551 | 81.507 | 84.830 |\n",
      "| MRR@k  | 23.141 | 30.172 | 33.778 | 35.998 | 37.292 | 38.228 | 38.881 | 39.380 | 39.820 | 40.152 |\n",
      "| Perc@k | 23.141 | 30.172 | 36.122 | 41.317 | 45.728 | 49.604 | 53.026 | 56.092 | 58.916 | 61.507 |\n",
      "+--------+--------+--------+--------+--------+--------+--------+--------+--------+--------+--------+\n",
      "\n",
      "The Bigram predicts 2 distinct labels on the test data:\n",
      "<sos> - New York NY\n"
     ]
    }
   ],
   "source": [
    "# Reporting the performance\n",
    "\n",
    "uni_words = set(unigram_pred_test)\n",
    "bi_words = set(bigram_pred_test)\n",
    "\n",
    "print('**************************UNIGRAM Performance**************************\\n')\n",
    "print(full_report(y_true_test, unigram_pred_test, unigram_prob_test))\n",
    "print('\\nThe Unigram predicts %d distinct labels on the test data:\\n%s\\n' % (len(uni_words), ' - '.join([vocab.itos[i+2] for i in uni_words])))\n",
    "print('\\n**************************BIGRAM Performance***************************\\n')\n",
    "print(full_report(y_true_test, bigram_pred_test, bigram_prob_test))\n",
    "print('\\nThe Bigram predicts %d distinct labels on the test data:\\n%s' % (len(uni_words), ' - '.join([vocab.itos[i+2] for i in uni_words])))"
   ]
  }
 ],
 "metadata": {
  "colab": {
   "authorship_tag": "ABX9TyMbtS62dPG546c0UMx0FX7H",
   "collapsed_sections": [],
   "name": "Q2_Baseline.ipynb",
   "provenance": []
  },
  "kernelspec": {
   "display_name": "Python 3",
   "language": "python",
   "name": "python3"
  },
  "language_info": {
   "codemirror_mode": {
    "name": "ipython",
    "version": 3
   },
   "file_extension": ".py",
   "mimetype": "text/x-python",
   "name": "python",
   "nbconvert_exporter": "python",
   "pygments_lexer": "ipython3",
   "version": "3.6.10"
  },
  "widgets": {
   "application/vnd.jupyter.widget-state+json": {
    "02cb0720e121427ebcb42e5093496841": {
     "model_module": "@jupyter-widgets/controls",
     "model_name": "HBoxModel",
     "state": {
      "_dom_classes": [],
      "_model_module": "@jupyter-widgets/controls",
      "_model_module_version": "1.5.0",
      "_model_name": "HBoxModel",
      "_view_count": null,
      "_view_module": "@jupyter-widgets/controls",
      "_view_module_version": "1.5.0",
      "_view_name": "HBoxView",
      "box_style": "",
      "children": [
       "IPY_MODEL_92c97a67aa59431283e406077ac82980",
       "IPY_MODEL_7546f01b5b39418bbfc4a0712e5e94eb"
      ],
      "layout": "IPY_MODEL_feb9400de9fc48c2aeff33797767a956"
     }
    },
    "0d2163721d074079a7fdd01a4a576147": {
     "model_module": "@jupyter-widgets/controls",
     "model_name": "ProgressStyleModel",
     "state": {
      "_model_module": "@jupyter-widgets/controls",
      "_model_module_version": "1.5.0",
      "_model_name": "ProgressStyleModel",
      "_view_count": null,
      "_view_module": "@jupyter-widgets/base",
      "_view_module_version": "1.2.0",
      "_view_name": "StyleView",
      "bar_color": null,
      "description_width": "initial"
     }
    },
    "43c9fbbeba77486a9a93c5af88493f06": {
     "model_module": "@jupyter-widgets/controls",
     "model_name": "DescriptionStyleModel",
     "state": {
      "_model_module": "@jupyter-widgets/controls",
      "_model_module_version": "1.5.0",
      "_model_name": "DescriptionStyleModel",
      "_view_count": null,
      "_view_module": "@jupyter-widgets/base",
      "_view_module_version": "1.2.0",
      "_view_name": "StyleView",
      "description_width": ""
     }
    },
    "4f7638f083754f57acb564690c200992": {
     "model_module": "@jupyter-widgets/base",
     "model_name": "LayoutModel",
     "state": {
      "_model_module": "@jupyter-widgets/base",
      "_model_module_version": "1.2.0",
      "_model_name": "LayoutModel",
      "_view_count": null,
      "_view_module": "@jupyter-widgets/base",
      "_view_module_version": "1.2.0",
      "_view_name": "LayoutView",
      "align_content": null,
      "align_items": null,
      "align_self": null,
      "border": null,
      "bottom": null,
      "display": null,
      "flex": null,
      "flex_flow": null,
      "grid_area": null,
      "grid_auto_columns": null,
      "grid_auto_flow": null,
      "grid_auto_rows": null,
      "grid_column": null,
      "grid_gap": null,
      "grid_row": null,
      "grid_template_areas": null,
      "grid_template_columns": null,
      "grid_template_rows": null,
      "height": null,
      "justify_content": null,
      "justify_items": null,
      "left": null,
      "margin": null,
      "max_height": null,
      "max_width": null,
      "min_height": null,
      "min_width": null,
      "object_fit": null,
      "object_position": null,
      "order": null,
      "overflow": null,
      "overflow_x": null,
      "overflow_y": null,
      "padding": null,
      "right": null,
      "top": null,
      "visibility": null,
      "width": null
     }
    },
    "7546f01b5b39418bbfc4a0712e5e94eb": {
     "model_module": "@jupyter-widgets/controls",
     "model_name": "HTMLModel",
     "state": {
      "_dom_classes": [],
      "_model_module": "@jupyter-widgets/controls",
      "_model_module_version": "1.5.0",
      "_model_name": "HTMLModel",
      "_view_count": null,
      "_view_module": "@jupyter-widgets/controls",
      "_view_module_version": "1.5.0",
      "_view_name": "HTMLView",
      "description": "",
      "description_tooltip": null,
      "layout": "IPY_MODEL_4f7638f083754f57acb564690c200992",
      "placeholder": "​",
      "style": "IPY_MODEL_43c9fbbeba77486a9a93c5af88493f06",
      "value": " 5777/5777 [00:11&lt;00:00, 510.48it/s]"
     }
    },
    "92c97a67aa59431283e406077ac82980": {
     "model_module": "@jupyter-widgets/controls",
     "model_name": "IntProgressModel",
     "state": {
      "_dom_classes": [],
      "_model_module": "@jupyter-widgets/controls",
      "_model_module_version": "1.5.0",
      "_model_name": "IntProgressModel",
      "_view_count": null,
      "_view_module": "@jupyter-widgets/controls",
      "_view_module_version": "1.5.0",
      "_view_name": "ProgressView",
      "bar_style": "success",
      "description": "100%",
      "description_tooltip": null,
      "layout": "IPY_MODEL_edf08a3f9ede4ef8b29a8608e2d0fbb1",
      "max": 5777,
      "min": 0,
      "orientation": "horizontal",
      "style": "IPY_MODEL_0d2163721d074079a7fdd01a4a576147",
      "value": 5777
     }
    },
    "edf08a3f9ede4ef8b29a8608e2d0fbb1": {
     "model_module": "@jupyter-widgets/base",
     "model_name": "LayoutModel",
     "state": {
      "_model_module": "@jupyter-widgets/base",
      "_model_module_version": "1.2.0",
      "_model_name": "LayoutModel",
      "_view_count": null,
      "_view_module": "@jupyter-widgets/base",
      "_view_module_version": "1.2.0",
      "_view_name": "LayoutView",
      "align_content": null,
      "align_items": null,
      "align_self": null,
      "border": null,
      "bottom": null,
      "display": null,
      "flex": null,
      "flex_flow": null,
      "grid_area": null,
      "grid_auto_columns": null,
      "grid_auto_flow": null,
      "grid_auto_rows": null,
      "grid_column": null,
      "grid_gap": null,
      "grid_row": null,
      "grid_template_areas": null,
      "grid_template_columns": null,
      "grid_template_rows": null,
      "height": null,
      "justify_content": null,
      "justify_items": null,
      "left": null,
      "margin": null,
      "max_height": null,
      "max_width": null,
      "min_height": null,
      "min_width": null,
      "object_fit": null,
      "object_position": null,
      "order": null,
      "overflow": null,
      "overflow_x": null,
      "overflow_y": null,
      "padding": null,
      "right": null,
      "top": null,
      "visibility": null,
      "width": null
     }
    },
    "feb9400de9fc48c2aeff33797767a956": {
     "model_module": "@jupyter-widgets/base",
     "model_name": "LayoutModel",
     "state": {
      "_model_module": "@jupyter-widgets/base",
      "_model_module_version": "1.2.0",
      "_model_name": "LayoutModel",
      "_view_count": null,
      "_view_module": "@jupyter-widgets/base",
      "_view_module_version": "1.2.0",
      "_view_name": "LayoutView",
      "align_content": null,
      "align_items": null,
      "align_self": null,
      "border": null,
      "bottom": null,
      "display": null,
      "flex": null,
      "flex_flow": null,
      "grid_area": null,
      "grid_auto_columns": null,
      "grid_auto_flow": null,
      "grid_auto_rows": null,
      "grid_column": null,
      "grid_gap": null,
      "grid_row": null,
      "grid_template_areas": null,
      "grid_template_columns": null,
      "grid_template_rows": null,
      "height": null,
      "justify_content": null,
      "justify_items": null,
      "left": null,
      "margin": null,
      "max_height": null,
      "max_width": null,
      "min_height": null,
      "min_width": null,
      "object_fit": null,
      "object_position": null,
      "order": null,
      "overflow": null,
      "overflow_x": null,
      "overflow_y": null,
      "padding": null,
      "right": null,
      "top": null,
      "visibility": null,
      "width": null
     }
    }
   }
  }
 },
 "nbformat": 4,
 "nbformat_minor": 1
}
